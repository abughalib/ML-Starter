{
 "cells": [
  {
   "cell_type": "code",
   "execution_count": 1,
   "metadata": {},
   "outputs": [
    {
     "name": "stdout",
     "output_type": "stream",
     "text": [
      "User ID            0\n",
      "Gender             0\n",
      "Age                0\n",
      "EstimatedSalary    0\n",
      "Purchased          0\n",
      "dtype: int64\n",
      "            User ID         Age  EstimatedSalary   Purchased\n",
      "count  4.000000e+02  400.000000       400.000000  400.000000\n",
      "mean   1.569154e+07   37.655000     69742.500000    0.357500\n",
      "std    7.165832e+04   10.482877     34096.960282    0.479864\n",
      "min    1.556669e+07   18.000000     15000.000000    0.000000\n",
      "25%    1.562676e+07   29.750000     43000.000000    0.000000\n",
      "50%    1.569434e+07   37.000000     70000.000000    0.000000\n",
      "75%    1.575036e+07   46.000000     88000.000000    1.000000\n",
      "max    1.581524e+07   60.000000    150000.000000    1.000000\n"
     ]
    }
   ],
   "source": [
    "import pandas as pd\n",
    "\n",
    "dataset = pd.read_csv(\"Social_Network_Ads.csv\")\n",
    "\n",
    "print(dataset.isna().sum())\n",
    "\n",
    "print(dataset.describe())\n",
    "\n",
    "X = dataset.iloc[:,[2,3]].values\n",
    "Y = dataset.iloc[:,-1].values\n"
   ]
  },
  {
   "cell_type": "code",
   "execution_count": 10,
   "metadata": {},
   "outputs": [
    {
     "name": "stdout",
     "output_type": "stream",
     "text": [
      "Accuracy: 85.0%\n",
      "Accuracy By SVM: 81.67%\n"
     ]
    }
   ],
   "source": [
    "from sklearn.neighbors import KNeighborsClassifier\n",
    "\n",
    "from sklearn.model_selection import train_test_split\n",
    "\n",
    "x_train, x_test, y_train, y_test = train_test_split(X, Y, random_state=5, test_size=0.3)\n",
    "\n",
    "from sklearn.tree import DecisionTreeClassifier\n",
    "\n",
    "model = DecisionTreeClassifier()\n",
    "\n",
    "model.fit(x_train, y_train)\n",
    "\n",
    "y_pred = model.predict(x_test)\n",
    "\n",
    "import numpy as np\n",
    "from sklearn.metrics import confusion_matrix, accuracy_score\n",
    "\n",
    "cm = confusion_matrix(y_test, y_pred)\n",
    "\n",
    "print(f\"Accuracy: {accuracy_score(y_test, y_pred)*100}%\")\n",
    "\n",
    "from sklearn.svm import SVC\n",
    "\n",
    "model3 = SVC()\n",
    "\n",
    "model3.fit(x_train, y_train)\n",
    "y_pred3 = model3.predict(x_test)\n",
    "\n",
    "print(f\"Accuracy By SVM: {accuracy_score(y_test, y_pred3)*100:.2f}%\")\n"
   ]
  },
  {
   "cell_type": "code",
   "execution_count": null,
   "metadata": {},
   "outputs": [],
   "source": [
    "\n",
    "\n",
    "print(f\"Predict by SVM: {model3.predict[[6.5,2.8,4.6,1.5]]}\")"
   ]
  }
 ],
 "metadata": {
  "kernelspec": {
   "display_name": "Python 3",
   "language": "python",
   "name": "python3"
  },
  "language_info": {
   "codemirror_mode": {
    "name": "ipython",
    "version": 3
   },
   "file_extension": ".py",
   "mimetype": "text/x-python",
   "name": "python",
   "nbconvert_exporter": "python",
   "pygments_lexer": "ipython3",
   "version": "3.8.2"
  }
 },
 "nbformat": 4,
 "nbformat_minor": 4
}
